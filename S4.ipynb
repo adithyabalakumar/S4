{
  "nbformat": 4,
  "nbformat_minor": 0,
  "metadata": {
    "colab": {
      "name": "Copy of EVA4 - Session 2.ipynb",
      "provenance": [],
      "include_colab_link": true
    },
    "kernelspec": {
      "name": "python3",
      "display_name": "Python 3"
    },
    "accelerator": "GPU"
  },
  "cells": [
    {
      "cell_type": "markdown",
      "metadata": {
        "id": "view-in-github",
        "colab_type": "text"
      },
      "source": [
        "<a href=\"https://colab.research.google.com/github/adithyabalakumar/S4/blob/master/S4.ipynb\" target=\"_parent\"><img src=\"https://colab.research.google.com/assets/colab-badge.svg\" alt=\"Open In Colab\"/></a>"
      ]
    },
    {
      "cell_type": "code",
      "metadata": {
        "id": "0m2JWFliFfKT",
        "colab_type": "code",
        "colab": {}
      },
      "source": [
        "from __future__ import print_function\n",
        "import torch\n",
        "import torch.nn as nn\n",
        "import torch.nn.functional as F\n",
        "import torch.optim as optim\n",
        "from torchvision import datasets, transforms"
      ],
      "execution_count": 0,
      "outputs": []
    },
    {
      "cell_type": "code",
      "metadata": {
        "id": "h_Cx9q2QFgM7",
        "colab_type": "code",
        "colab": {}
      },
      "source": [
        "class Net(nn.Module):\n",
        "    def __init__(self):\n",
        "        super(Net, self).__init__()\n",
        "\n",
        "        self.conv1 = nn.Conv2d(1, 16, 3) #input - 28 OUtput 26 RF\n",
        "        self.batch_norm1 = nn.BatchNorm2d(16)\n",
        "        self.dropout1 = nn.Dropout2d(0.10)\n",
        "\n",
        "        self.conv2 = nn.Conv2d(16, 16, 3) # 26 24\n",
        "        self.batch_norm2 = nn.BatchNorm2d(16)\n",
        "        self.dropout2 = nn.Dropout2d(0.10)\n",
        "\n",
        "        self.conv3 = nn.Conv2d(16, 16, 3) # 24 22\n",
        "        self.batch_norm3 = nn.BatchNorm2d(16)\n",
        "        #self.dropout3 = nn.Dropout2d(0.15)\n",
        "\n",
        "\n",
        "        self.pool1 = nn.MaxPool2d(2, 2)\n",
        "\n",
        "        self.conv4 = nn.Conv2d(16, 16, 3) # 11 9\n",
        "        self.batch_norm4 = nn.BatchNorm2d(16)\n",
        "        self.dropout4 = nn.Dropout2d(0.10)\n",
        "\n",
        "        #self.pool2 = nn.MaxPool2d(2, 2)\n",
        "\n",
        "        self.conv5 = nn.Conv2d(16 ,16, 3) # 9 7\n",
        "        self.batch_norm5 = nn.BatchNorm2d(16)\n",
        "        self.dropout5 = nn.Dropout2d(0.10)\n",
        "\n",
        "        self.conv6 = nn.Conv2d(16, 16, 3) # 7 5\n",
        "        self.batch_norm6 = nn.BatchNorm2d(16)\n",
        "        self.dropout6 = nn.Dropout2d(0.10)\n",
        "\n",
        "        self.conv7 = nn.Conv2d(16, 10, 3) # 5 3\n",
        "\n",
        "        self.gap = nn.AdaptiveAvgPool2d(1)\n",
        "      \n",
        "\n",
        "\n",
        "      \n",
        "\n",
        "      #  self.conv8 = nn.Conv2d(16, 10, 3) # 3 1\n",
        "\n",
        "    def forward(self, x):\n",
        "        x = self.dropout1(self.batch_norm1(F.relu(self.conv1(x))))\n",
        "        x = self.dropout2(self.batch_norm2(F.relu(self.conv2(x))))\n",
        "        x = self.pool1(self.batch_norm3(F.relu(self.conv3(x))))\n",
        "        x = self.dropout4(self.batch_norm4(F.relu(self.conv4(x))))\n",
        "        x = self.dropout5(self.batch_norm5(F.relu(self.conv5(x))))\n",
        "        x = self.dropout6(self.batch_norm6(F.relu(self.conv6(x))))\n",
        "      # x = self.dropout7(self.batch_norm7(F.relu(self.conv7(x))))\n",
        "\n",
        "        x = (self.conv7(x))\n",
        "        x = self.gap(x)\n",
        "      \n",
        "        x = x.view(-1, 10)\n",
        "        return F.log_softmax(x)"
      ],
      "execution_count": 0,
      "outputs": []
    },
    {
      "cell_type": "code",
      "metadata": {
        "colab_type": "code",
        "id": "xdydjYTZFyi3",
        "outputId": "e580b462-9bd2-4752-a65c-19b8c625c52d",
        "colab": {
          "base_uri": "https://localhost:8080/",
          "height": 632
        }
      },
      "source": [
        "!pip install torchsummary\n",
        "from torchsummary import summary\n",
        "use_cuda = torch.cuda.is_available()\n",
        "device = torch.device(\"cuda\" if use_cuda else \"cpu\")\n",
        "model = Net().to(device)\n",
        "summary(model, input_size=(1, 28, 28))"
      ],
      "execution_count": 0,
      "outputs": [
        {
          "output_type": "stream",
          "text": [
            "Requirement already satisfied: torchsummary in /usr/local/lib/python3.6/dist-packages (1.5.1)\n",
            "----------------------------------------------------------------\n",
            "        Layer (type)               Output Shape         Param #\n",
            "================================================================\n",
            "            Conv2d-1           [-1, 16, 26, 26]             160\n",
            "       BatchNorm2d-2           [-1, 16, 26, 26]              32\n",
            "         Dropout2d-3           [-1, 16, 26, 26]               0\n",
            "            Conv2d-4           [-1, 16, 24, 24]           2,320\n",
            "       BatchNorm2d-5           [-1, 16, 24, 24]              32\n",
            "         Dropout2d-6           [-1, 16, 24, 24]               0\n",
            "            Conv2d-7           [-1, 16, 22, 22]           2,320\n",
            "       BatchNorm2d-8           [-1, 16, 22, 22]              32\n",
            "         MaxPool2d-9           [-1, 16, 11, 11]               0\n",
            "           Conv2d-10             [-1, 16, 9, 9]           2,320\n",
            "      BatchNorm2d-11             [-1, 16, 9, 9]              32\n",
            "        Dropout2d-12             [-1, 16, 9, 9]               0\n",
            "           Conv2d-13             [-1, 16, 7, 7]           2,320\n",
            "      BatchNorm2d-14             [-1, 16, 7, 7]              32\n",
            "        Dropout2d-15             [-1, 16, 7, 7]               0\n",
            "           Conv2d-16             [-1, 16, 5, 5]           2,320\n",
            "      BatchNorm2d-17             [-1, 16, 5, 5]              32\n",
            "        Dropout2d-18             [-1, 16, 5, 5]               0\n",
            "           Conv2d-19             [-1, 10, 3, 3]           1,450\n",
            "AdaptiveAvgPool2d-20             [-1, 10, 1, 1]               0\n",
            "================================================================\n",
            "Total params: 13,402\n",
            "Trainable params: 13,402\n",
            "Non-trainable params: 0\n",
            "----------------------------------------------------------------\n",
            "Input size (MB): 0.00\n",
            "Forward/backward pass size (MB): 0.65\n",
            "Params size (MB): 0.05\n",
            "Estimated Total Size (MB): 0.70\n",
            "----------------------------------------------------------------\n"
          ],
          "name": "stdout"
        },
        {
          "output_type": "stream",
          "text": [
            "/usr/local/lib/python3.6/dist-packages/ipykernel_launcher.py:56: UserWarning: Implicit dimension choice for log_softmax has been deprecated. Change the call to include dim=X as an argument.\n"
          ],
          "name": "stderr"
        }
      ]
    },
    {
      "cell_type": "code",
      "metadata": {
        "id": "DqTWLaM5GHgH",
        "colab_type": "code",
        "colab": {}
      },
      "source": [
        "\n",
        "\n",
        "torch.manual_seed(1)\n",
        "batch_size = 128\n",
        "\n",
        "kwargs = {'num_workers': 1, 'pin_memory': True} if use_cuda else {}\n",
        "train_loader = torch.utils.data.DataLoader(\n",
        "    datasets.MNIST('../data', train=True, download=True,\n",
        "                    transform=transforms.Compose([\n",
        "                        transforms.ToTensor(),\n",
        "                        transforms.Normalize((0.1307,), (0.3081,))\n",
        "                    ])),\n",
        "    batch_size=batch_size, shuffle=True, **kwargs)\n",
        "test_loader = torch.utils.data.DataLoader(\n",
        "    datasets.MNIST('../data', train=False, transform=transforms.Compose([\n",
        "                        transforms.ToTensor(),\n",
        "                        transforms.Normalize((0.1307,), (0.3081,))\n",
        "                    ])),\n",
        "    batch_size=batch_size, shuffle=True, **kwargs)\n"
      ],
      "execution_count": 0,
      "outputs": []
    },
    {
      "cell_type": "code",
      "metadata": {
        "id": "8fDefDhaFlwH",
        "colab_type": "code",
        "colab": {}
      },
      "source": [
        "from tqdm import tqdm\n",
        "def train(model, device, train_loader, optimizer, epoch):\n",
        "    model.train()\n",
        "    pbar = tqdm(train_loader)\n",
        "    for batch_idx, (data, target) in enumerate(pbar):\n",
        "        data, target = data.to(device), target.to(device)\n",
        "        optimizer.zero_grad()\n",
        "        output = model(data)\n",
        "        loss = F.nll_loss(output, target)\n",
        "        loss.backward()\n",
        "        optimizer.step()\n",
        "        pbar.set_description(desc= f'loss={loss.item()} batch_id={batch_idx}')\n",
        "\n",
        "\n",
        "def test(model, device, test_loader):\n",
        "    model.eval()\n",
        "    test_loss = 0\n",
        "    correct = 0\n",
        "    with torch.no_grad():\n",
        "        for data, target in test_loader:\n",
        "            data, target = data.to(device), target.to(device)\n",
        "            output = model(data)\n",
        "            test_loss += F.nll_loss(output, target, reduction='sum').item()  # sum up batch loss\n",
        "            pred = output.argmax(dim=1, keepdim=True)  # get the index of the max log-probability\n",
        "            correct += pred.eq(target.view_as(pred)).sum().item()\n",
        "\n",
        "    test_loss /= len(test_loader.dataset)\n",
        "\n",
        "    print('\\nTest set: Average loss: {:.4f}, Accuracy: {}/{} ({:.2f}%)\\n'.format(\n",
        "        test_loss, correct, len(test_loader.dataset),\n",
        "        100. * correct / len(test_loader.dataset)))"
      ],
      "execution_count": 0,
      "outputs": []
    },
    {
      "cell_type": "code",
      "metadata": {
        "id": "MMWbLWO6FuHb",
        "colab_type": "code",
        "outputId": "762dda38-7896-4293-c59e-a57d4f7d0590",
        "colab": {
          "base_uri": "https://localhost:8080/",
          "height": 1000
        }
      },
      "source": [
        "\n",
        "model = Net().to(device)\n",
        "optimizer = optim.SGD(model.parameters(), lr=0.01, momentum=0.9)\n",
        "\n",
        "for epoch in range(1,16):\n",
        "    print(f'epoch:{epoch}')\n",
        "    train(model, device, train_loader, optimizer, epoch)\n",
        "    test(model, device, test_loader)"
      ],
      "execution_count": 0,
      "outputs": [
        {
          "output_type": "stream",
          "text": [
            "\r  0%|          | 0/469 [00:00<?, ?it/s]"
          ],
          "name": "stderr"
        },
        {
          "output_type": "stream",
          "text": [
            "epoch:1\n"
          ],
          "name": "stdout"
        },
        {
          "output_type": "stream",
          "text": [
            "/usr/local/lib/python3.6/dist-packages/ipykernel_launcher.py:56: UserWarning: Implicit dimension choice for log_softmax has been deprecated. Change the call to include dim=X as an argument.\n",
            "loss=0.05499796196818352 batch_id=468: 100%|██████████| 469/469 [00:12<00:00, 38.39it/s]\n",
            "  0%|          | 0/469 [00:00<?, ?it/s]"
          ],
          "name": "stderr"
        },
        {
          "output_type": "stream",
          "text": [
            "\n",
            "Test set: Average loss: 0.0451, Accuracy: 9856/10000 (98.56%)\n",
            "\n",
            "epoch:2\n"
          ],
          "name": "stdout"
        },
        {
          "output_type": "stream",
          "text": [
            "loss=0.06329706311225891 batch_id=468: 100%|██████████| 469/469 [00:12<00:00, 37.76it/s]\n",
            "  0%|          | 0/469 [00:00<?, ?it/s]"
          ],
          "name": "stderr"
        },
        {
          "output_type": "stream",
          "text": [
            "\n",
            "Test set: Average loss: 0.0337, Accuracy: 9896/10000 (98.96%)\n",
            "\n",
            "epoch:3\n"
          ],
          "name": "stdout"
        },
        {
          "output_type": "stream",
          "text": [
            "loss=0.014886011369526386 batch_id=468: 100%|██████████| 469/469 [00:12<00:00, 38.29it/s]\n",
            "  0%|          | 0/469 [00:00<?, ?it/s]"
          ],
          "name": "stderr"
        },
        {
          "output_type": "stream",
          "text": [
            "\n",
            "Test set: Average loss: 0.0289, Accuracy: 9908/10000 (99.08%)\n",
            "\n",
            "epoch:4\n"
          ],
          "name": "stdout"
        },
        {
          "output_type": "stream",
          "text": [
            "loss=0.055691469460725784 batch_id=468: 100%|██████████| 469/469 [00:12<00:00, 37.84it/s]\n",
            "  0%|          | 0/469 [00:00<?, ?it/s]"
          ],
          "name": "stderr"
        },
        {
          "output_type": "stream",
          "text": [
            "\n",
            "Test set: Average loss: 0.0279, Accuracy: 9913/10000 (99.13%)\n",
            "\n",
            "epoch:5\n"
          ],
          "name": "stdout"
        },
        {
          "output_type": "stream",
          "text": [
            "loss=0.03674933314323425 batch_id=468: 100%|██████████| 469/469 [00:12<00:00, 37.92it/s]\n",
            "  0%|          | 0/469 [00:00<?, ?it/s]"
          ],
          "name": "stderr"
        },
        {
          "output_type": "stream",
          "text": [
            "\n",
            "Test set: Average loss: 0.0238, Accuracy: 9922/10000 (99.22%)\n",
            "\n",
            "epoch:6\n"
          ],
          "name": "stdout"
        },
        {
          "output_type": "stream",
          "text": [
            "loss=0.03032553754746914 batch_id=468: 100%|██████████| 469/469 [00:12<00:00, 37.58it/s]\n",
            "  0%|          | 0/469 [00:00<?, ?it/s]"
          ],
          "name": "stderr"
        },
        {
          "output_type": "stream",
          "text": [
            "\n",
            "Test set: Average loss: 0.0243, Accuracy: 9924/10000 (99.24%)\n",
            "\n",
            "epoch:7\n"
          ],
          "name": "stdout"
        },
        {
          "output_type": "stream",
          "text": [
            "loss=0.009559720754623413 batch_id=468: 100%|██████████| 469/469 [00:12<00:00, 37.75it/s]\n",
            "  0%|          | 0/469 [00:00<?, ?it/s]"
          ],
          "name": "stderr"
        },
        {
          "output_type": "stream",
          "text": [
            "\n",
            "Test set: Average loss: 0.0222, Accuracy: 9931/10000 (99.31%)\n",
            "\n",
            "epoch:8\n"
          ],
          "name": "stdout"
        },
        {
          "output_type": "stream",
          "text": [
            "loss=0.03528881445527077 batch_id=468: 100%|██████████| 469/469 [00:12<00:00, 36.41it/s]\n",
            "  0%|          | 0/469 [00:00<?, ?it/s]"
          ],
          "name": "stderr"
        },
        {
          "output_type": "stream",
          "text": [
            "\n",
            "Test set: Average loss: 0.0228, Accuracy: 9929/10000 (99.29%)\n",
            "\n",
            "epoch:9\n"
          ],
          "name": "stdout"
        },
        {
          "output_type": "stream",
          "text": [
            "loss=0.01727970875799656 batch_id=468: 100%|██████████| 469/469 [00:12<00:00, 38.17it/s]\n",
            "  0%|          | 0/469 [00:00<?, ?it/s]"
          ],
          "name": "stderr"
        },
        {
          "output_type": "stream",
          "text": [
            "\n",
            "Test set: Average loss: 0.0211, Accuracy: 9936/10000 (99.36%)\n",
            "\n",
            "epoch:10\n"
          ],
          "name": "stdout"
        },
        {
          "output_type": "stream",
          "text": [
            "loss=0.09010303765535355 batch_id=468: 100%|██████████| 469/469 [00:12<00:00, 41.30it/s]\n",
            "  0%|          | 0/469 [00:00<?, ?it/s]"
          ],
          "name": "stderr"
        },
        {
          "output_type": "stream",
          "text": [
            "\n",
            "Test set: Average loss: 0.0192, Accuracy: 9935/10000 (99.35%)\n",
            "\n",
            "epoch:11\n"
          ],
          "name": "stdout"
        },
        {
          "output_type": "stream",
          "text": [
            "loss=0.03092319704592228 batch_id=468: 100%|██████████| 469/469 [00:12<00:00, 37.90it/s]\n",
            "  0%|          | 0/469 [00:00<?, ?it/s]"
          ],
          "name": "stderr"
        },
        {
          "output_type": "stream",
          "text": [
            "\n",
            "Test set: Average loss: 0.0213, Accuracy: 9936/10000 (99.36%)\n",
            "\n",
            "epoch:12\n"
          ],
          "name": "stdout"
        },
        {
          "output_type": "stream",
          "text": [
            "loss=0.03544076904654503 batch_id=468: 100%|██████████| 469/469 [00:12<00:00, 38.09it/s]\n",
            "  0%|          | 0/469 [00:00<?, ?it/s]"
          ],
          "name": "stderr"
        },
        {
          "output_type": "stream",
          "text": [
            "\n",
            "Test set: Average loss: 0.0204, Accuracy: 9937/10000 (99.37%)\n",
            "\n",
            "epoch:13\n"
          ],
          "name": "stdout"
        },
        {
          "output_type": "stream",
          "text": [
            "loss=0.036629144102334976 batch_id=468: 100%|██████████| 469/469 [00:12<00:00, 38.45it/s]\n",
            "  0%|          | 0/469 [00:00<?, ?it/s]"
          ],
          "name": "stderr"
        },
        {
          "output_type": "stream",
          "text": [
            "\n",
            "Test set: Average loss: 0.0186, Accuracy: 9940/10000 (99.40%)\n",
            "\n",
            "epoch:14\n"
          ],
          "name": "stdout"
        },
        {
          "output_type": "stream",
          "text": [
            "loss=0.035740938037633896 batch_id=468: 100%|██████████| 469/469 [00:12<00:00, 37.83it/s]\n",
            "  0%|          | 0/469 [00:00<?, ?it/s]"
          ],
          "name": "stderr"
        },
        {
          "output_type": "stream",
          "text": [
            "\n",
            "Test set: Average loss: 0.0188, Accuracy: 9943/10000 (99.43%)\n",
            "\n",
            "epoch:15\n"
          ],
          "name": "stdout"
        },
        {
          "output_type": "stream",
          "text": [
            "loss=0.036171797662973404 batch_id=468: 100%|██████████| 469/469 [00:12<00:00, 33.56it/s]\n"
          ],
          "name": "stderr"
        },
        {
          "output_type": "stream",
          "text": [
            "\n",
            "Test set: Average loss: 0.0182, Accuracy: 9946/10000 (99.46%)\n",
            "\n"
          ],
          "name": "stdout"
        }
      ]
    },
    {
      "cell_type": "code",
      "metadata": {
        "id": "So5uk4EkHW6R",
        "colab_type": "code",
        "colab": {}
      },
      "source": [
        ""
      ],
      "execution_count": 0,
      "outputs": []
    }
  ]
}